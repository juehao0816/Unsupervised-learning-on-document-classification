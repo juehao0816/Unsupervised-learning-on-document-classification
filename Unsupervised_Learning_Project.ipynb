{
  "nbformat": 4,
  "nbformat_minor": 0,
  "metadata": {
    "colab": {
      "name": "Unsupervised Learning Project.ipynb",
      "version": "0.3.2",
      "provenance": [],
      "collapsed_sections": [],
      "include_colab_link": true
    },
    "kernelspec": {
      "name": "python2",
      "display_name": "Python 2"
    }
  },
  "cells": [
    {
      "cell_type": "markdown",
      "metadata": {
        "id": "view-in-github",
        "colab_type": "text"
      },
      "source": [
        "<a href=\"https://colab.research.google.com/github/juehao0816/Unsupervised-learning-on-document-classification/blob/master/Unsupervised_Learning_Project.ipynb\" target=\"_parent\"><img src=\"https://colab.research.google.com/assets/colab-badge.svg\" alt=\"Open In Colab\"/></a>"
      ]
    },
    {
      "cell_type": "markdown",
      "metadata": {
        "id": "Xp3LTq59E8UK",
        "colab_type": "text"
      },
      "source": [
        "# Document Clustering and Topic Modeling"
      ]
    },
    {
      "cell_type": "markdown",
      "metadata": {
        "id": "mS-ob0Q8E8UM",
        "colab_type": "text"
      },
      "source": [
        "*In* this project, we use unsupervised learning models to cluster unlabeled documents into different groups, visualize the results and identify their latent topics/structures."
      ]
    },
    {
      "cell_type": "markdown",
      "metadata": {
        "id": "ZE7Qr-ccE8UN",
        "colab_type": "text"
      },
      "source": [
        "## Contents"
      ]
    },
    {
      "cell_type": "markdown",
      "metadata": {
        "id": "2S0waFW9E8UO",
        "colab_type": "text"
      },
      "source": [
        "<ul>\n",
        "<li>[Part 1: Load Data](#Part-1:-Load-Data)\n",
        "<li>[Part 2: Tokenizing and Stemming](#Part-2:-Tokenizing-and-Stemming)\n",
        "<li>[Part 3: TF-IDF](#Part-3:-TF-IDF)\n",
        "<li>[Part 4: K-means clustering](#Part-4:-K-means-clustering)\n",
        "<li>[Part 5: Topic Modeling - Latent Dirichlet Allocation](#Part-5:-Topic-Modeling---Latent-Dirichlet-Allocation)\n",
        "</ul>"
      ]
    },
    {
      "cell_type": "markdown",
      "metadata": {
        "id": "5nXGAelMjJFq",
        "colab_type": "text"
      },
      "source": [
        "# Part 0: Setup Google Drive Environment"
      ]
    },
    {
      "cell_type": "code",
      "metadata": {
        "id": "6eT1n7oijJ8v",
        "colab_type": "code",
        "colab": {}
      },
      "source": [
        "!pip install -U -q PyDrive\n",
        "\n",
        "from pydrive.auth import GoogleAuth\n",
        "from pydrive.drive import GoogleDrive\n",
        "from google.colab import auth\n",
        "from oauth2client.client import GoogleCredentials\n",
        "\n",
        "auth.authenticate_user()\n",
        "gauth = GoogleAuth()\n",
        "gauth.credentials = GoogleCredentials.get_application_default()\n",
        "drive = GoogleDrive(gauth)"
      ],
      "execution_count": 0,
      "outputs": []
    },
    {
      "cell_type": "code",
      "metadata": {
        "id": "0N2bb9S6jKGh",
        "colab_type": "code",
        "colab": {}
      },
      "source": [
        "file1 = drive.CreateFile({'id':'1t7YL4WDIZcoFpo4o_i0UBf-znpCx-3s_'}) # replace the id with id of file you want to access\n",
        "file1.GetContentFile('synopses_list_imdb.txt')  \n",
        "file2 = drive.CreateFile({'id':'1Wf6hzJSuUfhjUMBZQyARUFms9w1zJZLD'}) # replace the id with id of file you want to access\n",
        "file2.GetContentFile('synopses_list_wiki.txt')  \n",
        "file3 = drive.CreateFile({'id':'1UzUyYzoIt7G_02163v3Fa8KTb-T_bLPT'}) # replace the id with id of file you want to access\n",
        "file3.GetContentFile('title_list.txt')  "
      ],
      "execution_count": 0,
      "outputs": []
    },
    {
      "cell_type": "markdown",
      "metadata": {
        "id": "Nc9DK62BE8UP",
        "colab_type": "text"
      },
      "source": [
        "# Part 1: Load Data"
      ]
    },
    {
      "cell_type": "code",
      "metadata": {
        "id": "OjdBV8gGE8UQ",
        "colab_type": "code",
        "outputId": "ac634708-4408-4911-d113-2ee88f55257f",
        "colab": {
          "base_uri": "https://localhost:8080/",
          "height": 104
        }
      },
      "source": [
        "import warnings\n",
        "warnings.filterwarnings('ignore')\n",
        "import numpy as np\n",
        "import pandas as pd\n",
        "import nltk\n",
        "# REGULAR EXPRESSION\n",
        "import re\n",
        "import os\n",
        "\n",
        "from sklearn import decomposition\n",
        "from sklearn.feature_extraction.text import TfidfVectorizer\n",
        "import matplotlib.pyplot as plt\n",
        "\n",
        "nltk.download('punkt')\n",
        "nltk.download('stopwords')"
      ],
      "execution_count": 0,
      "outputs": [
        {
          "output_type": "stream",
          "text": [
            "[nltk_data] Downloading package punkt to /root/nltk_data...\n",
            "[nltk_data]   Unzipping tokenizers/punkt.zip.\n",
            "[nltk_data] Downloading package stopwords to /root/nltk_data...\n",
            "[nltk_data]   Unzipping corpora/stopwords.zip.\n"
          ],
          "name": "stdout"
        },
        {
          "output_type": "execute_result",
          "data": {
            "text/plain": [
              "True"
            ]
          },
          "metadata": {
            "tags": []
          },
          "execution_count": 3
        }
      ]
    },
    {
      "cell_type": "markdown",
      "metadata": {
        "id": "gVsLtiVfE8UU",
        "colab_type": "text"
      },
      "source": [
        "Read data from files. In summary, we have 100 titles and 100 synoposes (combined from imdb and wiki)."
      ]
    },
    {
      "cell_type": "code",
      "metadata": {
        "id": "wiGJ0f_gE8UV",
        "colab_type": "code",
        "colab": {}
      },
      "source": [
        "#import three lists: titles and wikipedia synopses\n",
        "titles = open('title_list.txt').read().split('\\n')\n",
        "titles = titles[:100] #ensures that only the first 100 are read in\n",
        "\n",
        "#The wiki synopses and imdb synopses of each movie is seperated by the keywords \"BREAKS HERE\". \n",
        "#Each synoposes may consist of multiple paragraphs.\n",
        "synopses_wiki = open('synopses_list_wiki.txt').read().split('\\n BREAKS HERE')\n",
        "synopses_wiki = synopses_wiki[:100]\n",
        "\n",
        "synopses_imdb = open('synopses_list_imdb.txt').read().split('\\n BREAKS HERE')\n",
        "synopses_imdb = synopses_imdb[:100]\n",
        "\n",
        "#Combine imdb and wiki to get full synoposes for the top 100 movies. \n",
        "synopses = []\n",
        "for i in range(len(synopses_wiki)):\n",
        "    item = synopses_wiki[i] + synopses_imdb[i]\n",
        "    synopses.append(item)\n",
        "    \n",
        "#Because these synopses have already been ordered in popularity order, \n",
        "#we just need to generate a list of ordered numbers for future usage.\n",
        "ranks = range(len(titles))"
      ],
      "execution_count": 0,
      "outputs": []
    },
    {
      "cell_type": "markdown",
      "metadata": {
        "id": "iQ4KGnVeE8UX",
        "colab_type": "text"
      },
      "source": [
        "# Part 2: Tokenizing and Stemming"
      ]
    },
    {
      "cell_type": "markdown",
      "metadata": {
        "collapsed": true,
        "id": "GHHIaFATE8UY",
        "colab_type": "text"
      },
      "source": [
        "Load stopwords and stemmer function from NLTK library.\n",
        "Stop words are words like \"a\", \"the\", or \"in\" which don't convey significant meaning.\n",
        "Stemming is the process of breaking a word down into its root."
      ]
    },
    {
      "cell_type": "code",
      "metadata": {
        "id": "3gSwiUBRE8UY",
        "colab_type": "code",
        "outputId": "65413d97-17f5-480a-ec58-ef602e96a4be",
        "colab": {
          "base_uri": "https://localhost:8080/",
          "height": 52
        }
      },
      "source": [
        "# Use nltk's English stopwords.\n",
        "stopwords = nltk.corpus.stopwords.words('english')\n",
        "\n",
        "print (\"We use \" + str(len(stopwords)) + \" stop-words from nltk library.\")\n",
        "print (stopwords[:10])"
      ],
      "execution_count": 0,
      "outputs": [
        {
          "output_type": "stream",
          "text": [
            "We use 179 stop-words from nltk library.\n",
            "[u'i', u'me', u'my', u'myself', u'we', u'our', u'ours', u'ourselves', u'you', u\"you're\"]\n"
          ],
          "name": "stdout"
        }
      ]
    },
    {
      "cell_type": "code",
      "metadata": {
        "id": "e50130X8E8Uc",
        "colab_type": "code",
        "colab": {}
      },
      "source": [
        "from nltk.stem.snowball import SnowballStemmer\n",
        "stemmer = SnowballStemmer(\"english\")\n",
        "\n",
        "# tokenization and stemming\n",
        "def tokenization_and_stemming(text):\n",
        "    # exclude stop words and tokenize the document, generate a list of string \n",
        "    tokens = [word.lower() for sent in nltk.sent_tokenize(text) for word in nltk.word_tokenize(sent) if word not in stopwords]\n",
        "\n",
        "    filtered_tokens = []\n",
        "    \n",
        "    # filter out any tokens not containing letters (e.g., numeric tokens, raw punctuation)\n",
        "    for token in tokens:\n",
        "        if re.search('[a-zA-Z]', token):\n",
        "            filtered_tokens.append(token)\n",
        "            \n",
        "    # stemming\n",
        "    stems = [stemmer.stem(t) for t in filtered_tokens]\n",
        "    return stems\n",
        "\n",
        "# tokenization without stemming\n",
        "def tokenization(text):\n",
        "    tokens = [word.lower() for sent in nltk.sent_tokenize(text) for word in nltk.word_tokenize(sent) if word not in stopwords]\n",
        "    filtered_tokens = []\n",
        "    for token in tokens:\n",
        "        if re.search('[a-zA-Z]', token):\n",
        "            filtered_tokens.append(token)\n",
        "    return filtered_tokens"
      ],
      "execution_count": 0,
      "outputs": []
    },
    {
      "cell_type": "code",
      "metadata": {
        "id": "BwbA6hETE8Uf",
        "colab_type": "code",
        "outputId": "239b5550-8759-4f72-b910-1e56672d4580",
        "colab": {
          "base_uri": "https://localhost:8080/",
          "height": 35
        }
      },
      "source": [
        "# tokenization and stemming\n",
        "tokenization_and_stemming(\"she looked at her father's arm father.\")"
      ],
      "execution_count": 0,
      "outputs": [
        {
          "output_type": "execute_result",
          "data": {
            "text/plain": [
              "[u'look', u'father', \"'s\", u'arm', u'father']"
            ]
          },
          "metadata": {
            "tags": []
          },
          "execution_count": 11
        }
      ]
    },
    {
      "cell_type": "markdown",
      "metadata": {
        "id": "WtDXMCeME8Uh",
        "colab_type": "text"
      },
      "source": [
        "Use our defined functions to analyze (i.e. tokenize, stem) our synoposes."
      ]
    },
    {
      "cell_type": "code",
      "metadata": {
        "id": "CNtXZ3RlE8Ui",
        "colab_type": "code",
        "colab": {}
      },
      "source": [
        "# 1. do tokenization and stemming for all the documents\n",
        "# 2. also just do tokenization for all the documents\n",
        "# the goal is to create a mapping from stemmed words to original tokenized words for result interpretation.\n",
        "docs_stemmed = []\n",
        "docs_tokenized = []\n",
        "for i in synopses:\n",
        "    tokenized_and_stemmed_results = tokenization_and_stemming(i)\n",
        "    docs_stemmed.extend(tokenized_and_stemmed_results)\n",
        "    \n",
        "    tokenized_results = tokenization(i)\n",
        "    docs_tokenized.extend(tokenized_results)"
      ],
      "execution_count": 0,
      "outputs": []
    },
    {
      "cell_type": "markdown",
      "metadata": {
        "id": "Kj7JZxnpE8Uk",
        "colab_type": "text"
      },
      "source": [
        "Create a mapping from stemmed words to original tokenized words for result interpretation."
      ]
    },
    {
      "cell_type": "code",
      "metadata": {
        "id": "uoTp63fME8Ul",
        "colab_type": "code",
        "colab": {}
      },
      "source": [
        "vocab_frame_dict = {docs_stemmed[x]:docs_tokenized[x] for x in range(len(docs_stemmed))}"
      ],
      "execution_count": 0,
      "outputs": []
    },
    {
      "cell_type": "code",
      "metadata": {
        "id": "izGEEhPWeUPh",
        "colab_type": "code",
        "outputId": "81b01edd-d66d-4b1e-dd50-0d5bd986db56",
        "colab": {
          "base_uri": "https://localhost:8080/",
          "height": 364
        }
      },
      "source": [
        "#Observe the comparison\n",
        "vocab_frame_dict.items()[0:20]"
      ],
      "execution_count": 0,
      "outputs": [
        {
          "output_type": "execute_result",
          "data": {
            "text/plain": [
              "[(u'woodi', 'woody'),\n",
              " (u'yellow', 'yellow'),\n",
              " (u'four', 'four'),\n",
              " (u'two-for-the-price-of-on', 'two-for-the-price-of-one'),\n",
              " (u'enriqu', 'enrique'),\n",
              " (u'francesco', 'francesco'),\n",
              " (u'repetit', 'repetition'),\n",
              " (u'payoff', 'payoff'),\n",
              " (u're-emerg', 're-emerges'),\n",
              " (u'scold', 'scolding'),\n",
              " (u'lorr', 'lorre'),\n",
              " (u'hermann', 'hermanns'),\n",
              " (u'lord', 'lord'),\n",
              " (u'14-year', '14-year'),\n",
              " (u'swivel', 'swivels'),\n",
              " (u'kittredg', 'kittredge'),\n",
              " (u'buzz', 'buzz'),\n",
              " (u'fargo', 'fargo'),\n",
              " (u'lumin', 'luminous'),\n",
              " (u'fantas', 'fantasizes')]"
            ]
          },
          "metadata": {
            "tags": []
          },
          "execution_count": 22
        }
      ]
    },
    {
      "cell_type": "markdown",
      "metadata": {
        "collapsed": true,
        "id": "QAWdFqL5E8Uo",
        "colab_type": "text"
      },
      "source": [
        "# Part 3: TF-IDF\n",
        "\n",
        "TF: Term Frequency\n",
        "\n",
        "IDF: Inverse Document Frequency\n",
        "\n",
        "***example:***\n",
        "\n",
        "document1: \"Arthur da Jason\"\n",
        "\n",
        "document 2: \"Jason da da huang\"\n",
        "\n",
        "document1: tf-idf [2, 0.5, 0.5, 0];  document2: tf-idf [0, 1, 0.5, 1]  \n",
        "\n",
        "2-gram: \n",
        "\n",
        "document 1: Arthur da, da Jason; document 2: Jason da, da da, da huang bigram\n",
        "\n",
        "3-gram:\n",
        "\n",
        "document 1: Athur da Jason;  document 2: Jason da da, da da huang"
      ]
    },
    {
      "cell_type": "code",
      "metadata": {
        "id": "k-XH7R4pE8Up",
        "colab_type": "code",
        "outputId": "3c250915-c152-4518-e74f-4f35a0441c8e",
        "colab": {
          "base_uri": "https://localhost:8080/",
          "height": 35
        }
      },
      "source": [
        "# define vectorizer parameters\n",
        "# TfidfVectorizer will help us to create tf-idf matrix\n",
        "# max_df : maximum document frequency for the given word\n",
        "# min_df : minimum document frequency for the given word\n",
        "# max_features: maximum number of words\n",
        "# use_idf: if not true, we only calculate tf\n",
        "# stop_words : built-in stop words\n",
        "# tokenizer: how to tokenize the document\n",
        "# ngram_range: (min_value, max_value), eg. (1, 3) means the result will include 1-gram, 2-gram, 3-gram\n",
        "tfidf_model = TfidfVectorizer(max_df=0.8, max_features=2000,\n",
        "                                 min_df=0, stop_words='english',\n",
        "                                 use_idf=True, tokenizer=tokenization_and_stemming, ngram_range=(1,3))\n",
        "\n",
        "tfidf_matrix = tfidf_model.fit_transform(synopses) #fit the vectorizer to synopses\n",
        "\n",
        "print (\"In total, there are \" + str(tfidf_matrix.shape[0]) + \\\n",
        "      \" synoposes and \" + str(tfidf_matrix.shape[1]) + \" terms.\")"
      ],
      "execution_count": 0,
      "outputs": [
        {
          "output_type": "stream",
          "text": [
            "In total, there are 100 synoposes and 2000 terms.\n"
          ],
          "name": "stdout"
        }
      ]
    },
    {
      "cell_type": "code",
      "metadata": {
        "id": "GoRH6IDVE8Ur",
        "colab_type": "code",
        "outputId": "6a75c435-7935-4130-c115-5b71e3a1cfc5",
        "colab": {
          "base_uri": "https://localhost:8080/",
          "height": 381
        }
      },
      "source": [
        "# check the parameters\n",
        "tfidf_model.get_params()"
      ],
      "execution_count": 0,
      "outputs": [
        {
          "output_type": "execute_result",
          "data": {
            "text/plain": [
              "{'analyzer': u'word',\n",
              " 'binary': False,\n",
              " 'decode_error': u'strict',\n",
              " 'dtype': numpy.float64,\n",
              " 'encoding': u'utf-8',\n",
              " 'input': u'content',\n",
              " 'lowercase': True,\n",
              " 'max_df': 0.8,\n",
              " 'max_features': 2000,\n",
              " 'min_df': 0,\n",
              " 'ngram_range': (1, 3),\n",
              " 'norm': u'l2',\n",
              " 'preprocessor': None,\n",
              " 'smooth_idf': True,\n",
              " 'stop_words': 'english',\n",
              " 'strip_accents': None,\n",
              " 'sublinear_tf': False,\n",
              " 'token_pattern': u'(?u)\\\\b\\\\w\\\\w+\\\\b',\n",
              " 'tokenizer': <function __main__.tokenization_and_stemming>,\n",
              " 'use_idf': True,\n",
              " 'vocabulary': None}"
            ]
          },
          "metadata": {
            "tags": []
          },
          "execution_count": 46
        }
      ]
    },
    {
      "cell_type": "markdown",
      "metadata": {
        "id": "whu1pCOiE8Uv",
        "colab_type": "text"
      },
      "source": [
        "Save the terms identified by TF-IDF."
      ]
    },
    {
      "cell_type": "code",
      "metadata": {
        "id": "lLdKk6n-E8Uw",
        "colab_type": "code",
        "colab": {}
      },
      "source": [
        "# words\n",
        "tf_selected_words = tfidf_model.get_feature_names()"
      ],
      "execution_count": 0,
      "outputs": []
    },
    {
      "cell_type": "code",
      "metadata": {
        "id": "6mWvzNWQFB26",
        "colab_type": "code",
        "outputId": "9e5bf920-e527-44ce-ce7b-d3bbddd62d42",
        "colab": {
          "base_uri": "https://localhost:8080/",
          "height": 364
        }
      },
      "source": [
        "# print out first 20 frequent words out of 2000\n",
        "tf_selected_words[:20]"
      ],
      "execution_count": 0,
      "outputs": [
        {
          "output_type": "execute_result",
          "data": {
            "text/plain": [
              "[u\"'d\",\n",
              " u\"'m\",\n",
              " u\"'s apart\",\n",
              " u\"'s arm\",\n",
              " u\"'s bodi\",\n",
              " u\"'s death\",\n",
              " u\"'s father\",\n",
              " u\"'s friend\",\n",
              " u\"'s home\",\n",
              " u\"'s hous\",\n",
              " u\"'s life\",\n",
              " u\"'s marriag\",\n",
              " u\"'s men\",\n",
              " u\"'s mother\",\n",
              " u\"'s murder\",\n",
              " u\"'s offic\",\n",
              " u\"'s plan\",\n",
              " u\"'s son\",\n",
              " u\"'s voic\",\n",
              " u\"'s wife\"]"
            ]
          },
          "metadata": {
            "tags": []
          },
          "execution_count": 52
        }
      ]
    },
    {
      "cell_type": "code",
      "metadata": {
        "id": "k6JFh-1BE8Uy",
        "colab_type": "code",
        "outputId": "7d74fa4f-649e-4d33-f4d9-ea1e643bdb28",
        "colab": {
          "base_uri": "https://localhost:8080/",
          "height": 52
        }
      },
      "source": [
        "# tf-idf matrix\n",
        "tfidf_matrix"
      ],
      "execution_count": 0,
      "outputs": [
        {
          "output_type": "execute_result",
          "data": {
            "text/plain": [
              "<100x2000 sparse matrix of type '<type 'numpy.float64'>'\n",
              "\twith 31769 stored elements in Compressed Sparse Row format>"
            ]
          },
          "metadata": {
            "tags": []
          },
          "execution_count": 53
        }
      ]
    },
    {
      "cell_type": "markdown",
      "metadata": {
        "id": "1hPhgwSeE8U4",
        "colab_type": "text"
      },
      "source": [
        "# (Optional) Calculate Document Similarity"
      ]
    },
    {
      "cell_type": "code",
      "metadata": {
        "scrolled": true,
        "id": "NI1CN6m6E8U5",
        "colab_type": "code",
        "outputId": "1524e97b-5242-428e-a635-cb155f467a3d",
        "colab": {
          "base_uri": "https://localhost:8080/",
          "height": 156
        }
      },
      "source": [
        "# use cosine similarity to check the similarity for two documents\n",
        "from sklearn.metrics.pairwise import cosine_similarity\n",
        "cos_matrix = cosine_similarity(tfidf_matrix)\n",
        "print (cos_matrix)\n",
        "# The shape of cos_matrix is 100*100\n",
        "np.shape(cos_matrix)"
      ],
      "execution_count": 0,
      "outputs": [
        {
          "output_type": "stream",
          "text": [
            "[[1.         0.01587253 0.01952566 ... 0.02251429 0.02280225 0.04400671]\n",
            " [0.01587253 1.         0.0314611  ... 0.01242858 0.01335847 0.01926311]\n",
            " [0.01952566 0.0314611  1.         ... 0.01612858 0.01253687 0.04145735]\n",
            " ...\n",
            " [0.02251429 0.01242858 0.01612858 ... 1.         0.03184383 0.0459994 ]\n",
            " [0.02280225 0.01335847 0.01253687 ... 0.03184383 1.         0.01976441]\n",
            " [0.04400671 0.01926311 0.04145735 ... 0.0459994  0.01976441 1.        ]]\n"
          ],
          "name": "stdout"
        },
        {
          "output_type": "execute_result",
          "data": {
            "text/plain": [
              "(100, 100)"
            ]
          },
          "metadata": {
            "tags": []
          },
          "execution_count": 55
        }
      ]
    },
    {
      "cell_type": "markdown",
      "metadata": {
        "id": "XEcwtws5E8U8",
        "colab_type": "text"
      },
      "source": [
        "# Part 4: K-means clustering"
      ]
    },
    {
      "cell_type": "code",
      "metadata": {
        "scrolled": true,
        "id": "7LJQ5i3IE8U9",
        "colab_type": "code",
        "colab": {}
      },
      "source": [
        "# k-means clustering\n",
        "from sklearn.cluster import KMeans\n",
        "\n",
        "# number of clusters\n",
        "num_clusters = 5\n",
        "km = KMeans(n_clusters=num_clusters)\n",
        "km.fit(tfidf_matrix)\n",
        "clusters = km.labels_.tolist()"
      ],
      "execution_count": 0,
      "outputs": []
    },
    {
      "cell_type": "markdown",
      "metadata": {
        "id": "fboVpRAfE8U-",
        "colab_type": "text"
      },
      "source": [
        "## 4.1. Analyze K-means Result"
      ]
    },
    {
      "cell_type": "code",
      "metadata": {
        "id": "KGs4aIIME8U_",
        "colab_type": "code",
        "colab": {}
      },
      "source": [
        "# create DataFrame films from all of the input files.\n",
        "films = { 'title': titles, 'rank': ranks, 'synopsis': synopses, 'cluster': clusters}\n",
        "frame = pd.DataFrame(films, index = [clusters] , columns = ['rank', 'title', 'cluster'])"
      ],
      "execution_count": 0,
      "outputs": []
    },
    {
      "cell_type": "code",
      "metadata": {
        "id": "APmEUmm6E8VC",
        "colab_type": "code",
        "outputId": "5710d0c2-ce3f-4031-b1c1-ad528be70d69",
        "colab": {
          "base_uri": "https://localhost:8080/",
          "height": 355
        }
      },
      "source": [
        "frame.head(10)"
      ],
      "execution_count": 0,
      "outputs": [
        {
          "output_type": "execute_result",
          "data": {
            "text/html": [
              "<div>\n",
              "<style scoped>\n",
              "    .dataframe tbody tr th:only-of-type {\n",
              "        vertical-align: middle;\n",
              "    }\n",
              "\n",
              "    .dataframe tbody tr th {\n",
              "        vertical-align: top;\n",
              "    }\n",
              "\n",
              "    .dataframe thead th {\n",
              "        text-align: right;\n",
              "    }\n",
              "</style>\n",
              "<table border=\"1\" class=\"dataframe\">\n",
              "  <thead>\n",
              "    <tr style=\"text-align: right;\">\n",
              "      <th></th>\n",
              "      <th>rank</th>\n",
              "      <th>title</th>\n",
              "      <th>cluster</th>\n",
              "    </tr>\n",
              "  </thead>\n",
              "  <tbody>\n",
              "    <tr>\n",
              "      <th>2</th>\n",
              "      <td>0</td>\n",
              "      <td>The Godfather</td>\n",
              "      <td>2</td>\n",
              "    </tr>\n",
              "    <tr>\n",
              "      <th>0</th>\n",
              "      <td>1</td>\n",
              "      <td>The Shawshank Redemption</td>\n",
              "      <td>0</td>\n",
              "    </tr>\n",
              "    <tr>\n",
              "      <th>2</th>\n",
              "      <td>2</td>\n",
              "      <td>Schindler's List</td>\n",
              "      <td>2</td>\n",
              "    </tr>\n",
              "    <tr>\n",
              "      <th>4</th>\n",
              "      <td>3</td>\n",
              "      <td>Raging Bull</td>\n",
              "      <td>4</td>\n",
              "    </tr>\n",
              "    <tr>\n",
              "      <th>2</th>\n",
              "      <td>4</td>\n",
              "      <td>Casablanca</td>\n",
              "      <td>2</td>\n",
              "    </tr>\n",
              "    <tr>\n",
              "      <th>0</th>\n",
              "      <td>5</td>\n",
              "      <td>One Flew Over the Cuckoo's Nest</td>\n",
              "      <td>0</td>\n",
              "    </tr>\n",
              "    <tr>\n",
              "      <th>0</th>\n",
              "      <td>6</td>\n",
              "      <td>Gone with the Wind</td>\n",
              "      <td>0</td>\n",
              "    </tr>\n",
              "    <tr>\n",
              "      <th>3</th>\n",
              "      <td>7</td>\n",
              "      <td>Citizen Kane</td>\n",
              "      <td>3</td>\n",
              "    </tr>\n",
              "    <tr>\n",
              "      <th>0</th>\n",
              "      <td>8</td>\n",
              "      <td>The Wizard of Oz</td>\n",
              "      <td>0</td>\n",
              "    </tr>\n",
              "    <tr>\n",
              "      <th>0</th>\n",
              "      <td>9</td>\n",
              "      <td>Titanic</td>\n",
              "      <td>0</td>\n",
              "    </tr>\n",
              "  </tbody>\n",
              "</table>\n",
              "</div>"
            ],
            "text/plain": [
              "   rank                            title  cluster\n",
              "2     0                    The Godfather        2\n",
              "0     1         The Shawshank Redemption        0\n",
              "2     2                 Schindler's List        2\n",
              "4     3                      Raging Bull        4\n",
              "2     4                       Casablanca        2\n",
              "0     5  One Flew Over the Cuckoo's Nest        0\n",
              "0     6               Gone with the Wind        0\n",
              "3     7                     Citizen Kane        3\n",
              "0     8                 The Wizard of Oz        0\n",
              "0     9                          Titanic        0"
            ]
          },
          "metadata": {
            "tags": []
          },
          "execution_count": 67
        }
      ]
    },
    {
      "cell_type": "code",
      "metadata": {
        "id": "Ht1SbbOSE8VE",
        "colab_type": "code",
        "outputId": "3e31036e-7131-4529-c3ae-2ce318f06947",
        "colab": {
          "base_uri": "https://localhost:8080/",
          "height": 219
        }
      },
      "source": [
        "print (\"Number of films included in each cluster:\")\n",
        "frame['cluster'].value_counts().to_frame()"
      ],
      "execution_count": 0,
      "outputs": [
        {
          "output_type": "stream",
          "text": [
            "Number of films included in each cluster:\n"
          ],
          "name": "stdout"
        },
        {
          "output_type": "execute_result",
          "data": {
            "text/html": [
              "<div>\n",
              "<style scoped>\n",
              "    .dataframe tbody tr th:only-of-type {\n",
              "        vertical-align: middle;\n",
              "    }\n",
              "\n",
              "    .dataframe tbody tr th {\n",
              "        vertical-align: top;\n",
              "    }\n",
              "\n",
              "    .dataframe thead th {\n",
              "        text-align: right;\n",
              "    }\n",
              "</style>\n",
              "<table border=\"1\" class=\"dataframe\">\n",
              "  <thead>\n",
              "    <tr style=\"text-align: right;\">\n",
              "      <th></th>\n",
              "      <th>cluster</th>\n",
              "    </tr>\n",
              "  </thead>\n",
              "  <tbody>\n",
              "    <tr>\n",
              "      <th>0</th>\n",
              "      <td>45</td>\n",
              "    </tr>\n",
              "    <tr>\n",
              "      <th>2</th>\n",
              "      <td>27</td>\n",
              "    </tr>\n",
              "    <tr>\n",
              "      <th>4</th>\n",
              "      <td>15</td>\n",
              "    </tr>\n",
              "    <tr>\n",
              "      <th>3</th>\n",
              "      <td>7</td>\n",
              "    </tr>\n",
              "    <tr>\n",
              "      <th>1</th>\n",
              "      <td>6</td>\n",
              "    </tr>\n",
              "  </tbody>\n",
              "</table>\n",
              "</div>"
            ],
            "text/plain": [
              "   cluster\n",
              "0       45\n",
              "2       27\n",
              "4       15\n",
              "3        7\n",
              "1        6"
            ]
          },
          "metadata": {
            "tags": []
          },
          "execution_count": 68
        }
      ]
    },
    {
      "cell_type": "code",
      "metadata": {
        "scrolled": false,
        "id": "PEk3P4BTE8VI",
        "colab_type": "code",
        "outputId": "ec680021-0081-4103-8fc5-fe5e641d27d2",
        "colab": {
          "base_uri": "https://localhost:8080/",
          "height": 1000
        }
      },
      "source": [
        "print (\"<Document clustering result by K-means>\")\n",
        "\n",
        "#km.cluster_centers_ denotes the importances of each items in centroid.\n",
        "#We need to sort it in decreasing-order and get the top k items.\n",
        "order_centroids = km.cluster_centers_.argsort()[:, ::-1] \n",
        "\n",
        "Cluster_keywords_summary = {}\n",
        "for i in range(num_clusters):\n",
        "    print (\"Cluster \" + str(i) + \" words:\")\n",
        "    Cluster_keywords_summary[i] = []\n",
        "    for ind in order_centroids[i, :6]: #replace 6 with n words per cluster\n",
        "        Cluster_keywords_summary[i].append(vocab_frame_dict[tf_selected_words[ind]])\n",
        "        print (vocab_frame_dict[tf_selected_words[ind]] + \",\")\n",
        "    print ()\n",
        "    #Here ix means index, which is the clusterID of each item.\n",
        "    #Without tolist, the values result from dataframe is <type 'numpy.ndarray'>\n",
        "    cluster_movies = frame.ix[i]['title'].values.tolist()\n",
        "    print (\"Cluster \" + str(i) + \" titles (\" + str(len(cluster_movies)) + \" movies): \")\n",
        "    print (\", \".join(cluster_movies))\n",
        "    print ()"
      ],
      "execution_count": 0,
      "outputs": [
        {
          "output_type": "stream",
          "text": [
            "<Document clustering result by K-means>\n",
            "Cluster 0 words:\n",
            "george,\n",
            "dorothy,\n",
            "mike,\n",
            "tom,\n",
            "rocky,\n",
            "andy,\n",
            "()\n",
            "Cluster 0 titles (45 movies): \n",
            "The Shawshank Redemption, One Flew Over the Cuckoo's Nest, Gone with the Wind, The Wizard of Oz, Titanic, Psycho, Vertigo, Forrest Gump, E.T. the Extra-Terrestrial, The Silence of the Lambs, It's a Wonderful Life, 12 Angry Men, Amadeus, The Lord of the Rings: The Return of the King, Rocky, The Philadelphia Story, To Kill a Mockingbird, The Best Years of Our Lives, My Fair Lady, Ben-Hur, The Good, the Bad and the Ugly, Goodfellas, The Deer Hunter, City Lights, The King's Speech, It Happened One Night, A Place in the Sun, Mr. Smith Goes to Washington, Out of Africa, Good Will Hunting, Tootsie, Giant, The Grapes of Wrath, The Green Mile, Nashville, Stagecoach, The Maltese Falcon, A Clockwork Orange, Taxi Driver, Double Indemnity, Rebel Without a Cause, Rear Window, The Third Man, North by Northwest, Yankee Doodle Dandy\n",
            "()\n",
            "Cluster 1 words:\n",
            "butch,\n",
            "wallaces,\n",
            "curt,\n",
            "popeye,\n",
            "sundance,\n",
            "dobbs,\n",
            "()\n",
            "Cluster 1 titles (6 movies): \n",
            "Braveheart, Butch Cassidy and the Sundance Kid, The Treasure of the Sierra Madre, The French Connection, American Graffiti, Pulp Fiction\n",
            "()\n",
            "Cluster 2 words:\n",
            "miller,\n",
            "german,\n",
            "captain,\n",
            "soldiers,\n",
            "nazis,\n",
            "dunbar,\n",
            "()\n",
            "Cluster 2 titles (27 movies): \n",
            "The Godfather, Schindler's List, Casablanca, Lawrence of Arabia, The Sound of Music, Star Wars, The Bridge on the River Kwai, Dr. Strangelove or: How I Learned to Stop Worrying and Love the Bomb, Apocalypse Now, Gladiator, From Here to Eternity, Saving Private Ryan, Unforgiven, Raiders of the Lost Ark, A Streetcar Named Desire, Doctor Zhivago, Patton, Jaws, Platoon, High Noon, Dances with Wolves, The Pianist, The Exorcist, All Quiet on the Western Front, Close Encounters of the Third Kind, The African Queen, Mutiny on the Bounty\n",
            "()\n",
            "Cluster 3 words:\n",
            "joe,\n",
            "jerry,\n",
            "kane,\n",
            "raymond,\n",
            "charlie,\n",
            "norma,\n",
            "()\n",
            "Cluster 3 titles (7 movies): \n",
            "Citizen Kane, Sunset Blvd., Some Like It Hot, An American in Paris, Midnight Cowboy, Rain Man, Fargo\n",
            "()\n",
            "Cluster 4 words:\n",
            "jake,\n",
            "beale,\n",
            "gandhi,\n",
            "terry,\n",
            "joey,\n",
            "emma,\n",
            "()\n",
            "Cluster 4 titles (15 movies): \n",
            "Raging Bull, The Godfather: Part II, On the Waterfront, West Side Story, 2001: A Space Odyssey, Chinatown, Singin' in the Rain, Gandhi, The Apartment, Annie Hall, Terms of Endearment, Shane, Network, The Graduate, Wuthering Heights\n",
            "()\n"
          ],
          "name": "stdout"
        }
      ]
    },
    {
      "cell_type": "markdown",
      "metadata": {
        "id": "DdpmzonWE8VM",
        "colab_type": "text"
      },
      "source": [
        "## 4.2. Plot K-means Result"
      ]
    },
    {
      "cell_type": "code",
      "metadata": {
        "id": "a66VxmlYE8VM",
        "colab_type": "code",
        "colab": {}
      },
      "source": [
        "# use pca to reduce dimensions to 2d for visibility, just want to see if there 2d can give us some insights\n",
        "# this is not an appropriate method, just a guess.\n",
        "pca = decomposition.PCA(n_components=2)\n",
        "tfidf_matrix_np=tfidf_matrix.toarray()\n",
        "pca.fit(tfidf_matrix_np)\n",
        "X = pca.transform(tfidf_matrix_np)\n",
        "\n",
        "xs, ys = X[:, 0], X[:, 1]\n",
        "\n",
        "#set up colors per clusters using a dict\n",
        "cluster_colors = {0: '#1b9e77', 1: '#d95f02', 2: '#7570b3', 3: '#e7298a', 4: '#66a61e'}\n",
        "#set up cluster names using a dict\n",
        "cluster_names = {}\n",
        "for i in range(num_clusters):\n",
        "    cluster_names[i] = \", \".join(Cluster_keywords_summary[i])"
      ],
      "execution_count": 0,
      "outputs": []
    },
    {
      "cell_type": "code",
      "metadata": {
        "scrolled": false,
        "id": "829bBRgEE8VP",
        "colab_type": "code",
        "outputId": "5222e761-0ff2-445e-d8a7-cab920994479",
        "colab": {
          "base_uri": "https://localhost:8080/",
          "height": 541
        }
      },
      "source": [
        "# %matplotlib inline \n",
        "\n",
        "#create data frame with PCA cluster results\n",
        "df = pd.DataFrame(dict(x=xs, y=ys, label=clusters, title=titles)) \n",
        "groups = df.groupby(clusters)\n",
        "\n",
        "# set up plot\n",
        "fig, ax = plt.subplots(figsize=(16, 9))\n",
        "#Set color for each cluster/group\n",
        "for name, group in groups:\n",
        "    ax.plot(group.x, group.y, marker='o', linestyle='', ms=12, \n",
        "            label=cluster_names[name], color=cluster_colors[name], \n",
        "            mec='none')\n",
        "\n",
        "ax.legend(numpoints=1,loc=4)  #show legend with only 1 point, position is right bottom.\n",
        "\n",
        "plt.show() #show the plot"
      ],
      "execution_count": 0,
      "outputs": [
        {
          "output_type": "display_data",
          "data": {
            "image/png": "[encoded data removed]",
            "text/plain": [
              "<Figure size 1152x648 with 1 Axes>"
            ]
          },
          "metadata": {
            "tags": []
          }
        }
      ]
    },
    {
      "cell_type": "code",
      "metadata": {
        "id": "InZXGIXhE8VT",
        "colab_type": "code",
        "colab": {}
      },
      "source": [
        "plt.close()"
      ],
      "execution_count": 0,
      "outputs": []
    },
    {
      "cell_type": "markdown",
      "metadata": {
        "id": "oYOZXL53E8VV",
        "colab_type": "text"
      },
      "source": [
        "# Part 5: Topic Modeling - Latent Dirichlet Allocation"
      ]
    },
    {
      "cell_type": "code",
      "metadata": {
        "id": "lBPVbFNFE8VW",
        "colab_type": "code",
        "colab": {}
      },
      "source": [
        "# Use LDA for clustering\n",
        "from sklearn.decomposition import LatentDirichletAllocation\n",
        "lda = LatentDirichletAllocation(n_components=5, learning_method = 'online')"
      ],
      "execution_count": 0,
      "outputs": []
    },
    {
      "cell_type": "code",
      "metadata": {
        "id": "L5YYz__7E8VY",
        "colab_type": "code",
        "colab": {}
      },
      "source": [
        "# LDA requires integer values, keep first 3 digits\n",
        "tfidf_matrix_lda = (tfidf_matrix * 100)\n",
        "tfidf_matrix_lda = tfidf_matrix_lda.astype(int)"
      ],
      "execution_count": 0,
      "outputs": []
    },
    {
      "cell_type": "code",
      "metadata": {
        "id": "qIwUNN0ZE8Vb",
        "colab_type": "code",
        "outputId": "56746518-45d4-4987-93de-eb9a6fb747bc",
        "colab": {
          "base_uri": "https://localhost:8080/",
          "height": 139
        }
      },
      "source": [
        "lda.fit(tfidf_matrix_lda)"
      ],
      "execution_count": 0,
      "outputs": [
        {
          "output_type": "execute_result",
          "data": {
            "text/plain": [
              "LatentDirichletAllocation(batch_size=128, doc_topic_prior=None,\n",
              "             evaluate_every=-1, learning_decay=0.7,\n",
              "             learning_method='online', learning_offset=10.0,\n",
              "             max_doc_update_iter=100, max_iter=10, mean_change_tol=0.001,\n",
              "             n_components=5, n_jobs=None, n_topics=None, perp_tol=0.1,\n",
              "             random_state=None, topic_word_prior=None,\n",
              "             total_samples=1000000.0, verbose=0)"
            ]
          },
          "metadata": {
            "tags": []
          },
          "execution_count": 77
        }
      ]
    },
    {
      "cell_type": "code",
      "metadata": {
        "scrolled": true,
        "id": "TukTmm7dE8Vd",
        "colab_type": "code",
        "outputId": "c6ef2797-5cd9-4df4-d758-dd6b28c486e9",
        "colab": {
          "base_uri": "https://localhost:8080/",
          "height": 35
        }
      },
      "source": [
        "# topics and words matrix\n",
        "topic_word = lda.components_\n",
        "print(topic_word.shape)"
      ],
      "execution_count": 0,
      "outputs": [
        {
          "output_type": "stream",
          "text": [
            "(5, 2000)\n"
          ],
          "name": "stdout"
        }
      ]
    },
    {
      "cell_type": "code",
      "metadata": {
        "id": "4Hs012V-E8Vg",
        "colab_type": "code",
        "colab": {}
      },
      "source": [
        "n_top_words = 7\n",
        "topic_keywords_list = []\n",
        "for i, topic_dist in enumerate(topic_word):\n",
        "    #Here we select top(n_top_words-1)\n",
        "    lda_topic_words = np.array(tf_selected_words)[np.argsort(topic_dist)][:-n_top_words:-1] \n",
        "    for j in range(len(lda_topic_words)):\n",
        "        lda_topic_words[j] = vocab_frame_dict[lda_topic_words[j]]\n",
        "    topic_keywords_list.append(lda_topic_words.tolist())"
      ],
      "execution_count": 0,
      "outputs": []
    },
    {
      "cell_type": "code",
      "metadata": {
        "id": "BuSg4tbSE8Vh",
        "colab_type": "code",
        "outputId": "f8afbb4e-088e-482a-fce1-936778fd60ec",
        "colab": {
          "base_uri": "https://localhost:8080/",
          "height": 35
        }
      },
      "source": [
        "# documents and topics matri\n",
        "doc_topic = lda.transform(tfidf_matrix_lda)\n",
        "print (doc_topic.shape)"
      ],
      "execution_count": 0,
      "outputs": [
        {
          "output_type": "stream",
          "text": [
            "(100, 5)\n"
          ],
          "name": "stdout"
        }
      ]
    },
    {
      "cell_type": "code",
      "metadata": {
        "id": "paiC0DU-E8Vj",
        "colab_type": "code",
        "outputId": "c0a69743-2694-4943-e4cd-7fdd02817a5a",
        "colab": {
          "base_uri": "https://localhost:8080/",
          "height": 401
        }
      },
      "source": [
        "# print out the clusters and topics and titles of the movies\n",
        "topic_doc_dict = {}\n",
        "print (\"<Document clustering result by LDA>\")\n",
        "for i in range(len(doc_topic)):\n",
        "    topicID = doc_topic[i].argmax()\n",
        "    if topicID not in topic_doc_dict:\n",
        "        topic_doc_dict[topicID] = [titles[i]]\n",
        "    else:\n",
        "        topic_doc_dict[topicID].append(titles[i])\n",
        "for i in topic_doc_dict:\n",
        "    print (\"Cluster \" + str(i) + \" words: \" + \", \".join(topic_keywords_list[i]))\n",
        "    print (\"Cluster \" + str(i) + \" titles (\" + str(len(topic_doc_dict[i])) + \" movies): \")\n",
        "    print (', '.join(topic_doc_dict[i]))\n",
        "    print ()"
      ],
      "execution_count": 0,
      "outputs": [
        {
          "output_type": "stream",
          "text": [
            "<Document clustering result by LDA>\n",
            "Cluster 0 words: terry, lawrence, emma, wallaces, logue, scarlett\n",
            "Cluster 0 titles (16 movies): \n",
            "Gone with the Wind, Lawrence of Arabia, On the Waterfront, The Silence of the Lambs, A Streetcar Named Desire, The Best Years of Our Lives, Jaws, Braveheart, The Good, the Bad and the Ugly, All Quiet on the Western Front, The King's Speech, Mr. Smith Goes to Washington, Terms of Endearment, American Graffiti, Mutiny on the Bounty, The Third Man\n",
            "()\n",
            "Cluster 1 words: dorothy, maria, kane, george, alex, forrestal\n",
            "Cluster 1 titles (26 movies): \n",
            "The Shawshank Redemption, Casablanca, One Flew Over the Cuckoo's Nest, Citizen Kane, The Wizard of Oz, Forrest Gump, The Sound of Music, West Side Story, 2001: A Space Odyssey, It's a Wonderful Life, The Lord of the Rings: The Return of the King, Raiders of the Lost Ark, The Philadelphia Story, An American in Paris, Patton, High Noon, The Exorcist, City Lights, Out of Africa, Tootsie, Giant, Close Encounters of the Third Kind, Pulp Fiction, A Clockwork Orange, Rear Window, North by Northwest\n",
            "()\n",
            "Cluster 2 words: travis, maximus, gandhi, spade, neff, scotty\n",
            "Cluster 2 titles (14 movies): \n",
            "Titanic, Vertigo, Singin' in the Rain, Gandhi, Gladiator, Ben-Hur, Doctor Zhivago, The Apartment, Platoon, The Pianist, The Graduate, The Maltese Falcon, Taxi Driver, Double Indemnity\n",
            "()\n",
            "Cluster 3 words: joe, michael, beale, rocky, dunbar, schindler\n",
            "Cluster 3 titles (21 movies): \n",
            "The Godfather, Schindler's List, The Godfather: Part II, Sunset Blvd., Chinatown, The Bridge on the River Kwai, Some Like It Hot, Dr. Strangelove or: How I Learned to Stop Worrying and Love the Bomb, From Here to Eternity, Saving Private Ryan, Rocky, My Fair Lady, Dances with Wolves, The French Connection, Midnight Cowboy, Rain Man, Annie Hall, The Grapes of Wrath, Shane, Network, Wuthering Heights\n",
            "()\n",
            "Cluster 4 words: juror, munny, jim, paul, butch, mike\n",
            "Cluster 4 titles (23 movies): \n",
            "Raging Bull, Psycho, Star Wars, E.T. the Extra-Terrestrial, 12 Angry Men, Amadeus, Apocalypse Now, Unforgiven, To Kill a Mockingbird, Butch Cassidy and the Sundance Kid, The Treasure of the Sierra Madre, Goodfellas, The Deer Hunter, It Happened One Night, A Place in the Sun, Good Will Hunting, Fargo, The Green Mile, Nashville, The African Queen, Stagecoach, Rebel Without a Cause, Yankee Doodle Dandy\n",
            "()\n"
          ],
          "name": "stdout"
        }
      ]
    }
  ]
}